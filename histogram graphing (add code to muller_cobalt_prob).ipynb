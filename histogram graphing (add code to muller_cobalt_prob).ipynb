{
 "cells": [
  {
   "cell_type": "code",
   "execution_count": 145,
   "metadata": {
    "scrolled": false
   },
   "outputs": [
    {
     "name": "stdout",
     "output_type": "stream",
     "text": [
      "(3971, 1, 18)\n"
     ]
    }
   ],
   "source": [
    "print(andesClean.shape)"
   ]
  },
  {
   "cell_type": "code",
   "execution_count": 146,
   "metadata": {
    "scrolled": false
   },
   "outputs": [
    {
     "name": "stdout",
     "output_type": "stream",
     "text": [
      "(4539, 1, 18)\n"
     ]
    }
   ],
   "source": [
    "print(andesRandClean.shape)"
   ]
  },
  {
   "cell_type": "code",
   "execution_count": 71,
   "metadata": {},
   "outputs": [],
   "source": [
    "#loading necessary python modules\n",
    "import numpy #mathemaprint(andesRandClean.shape)tical data manipulation\n",
    "\n",
    "import pandas #for manipulating numerical tables and time series\n",
    "\n",
    "import matplotlib.pyplot #for plotting figures"
   ]
  },
  {
   "cell_type": "code",
   "execution_count": 90,
   "metadata": {
    "scrolled": false
   },
   "outputs": [
    {
     "name": "stdout",
     "output_type": "stream",
     "text": [
      "[[16.88252831]\n",
      " [16.88252831]\n",
      " [16.88252831]\n",
      " ...\n",
      " [32.48111343]\n",
      " [37.38199615]\n",
      " [32.78145599]]\n"
     ]
    }
   ],
   "source": [
    "a=andesClean[:,:,6] #sea floor age - ore\n",
    "print(a)"
   ]
  },
  {
   "cell_type": "code",
   "execution_count": 91,
   "metadata": {},
   "outputs": [
    {
     "name": "stdout",
     "output_type": "stream",
     "text": [
      "[1.85699606]\n",
      "[133.89389038]\n",
      "44.98270568512033\n",
      "45.88517379760742\n"
     ]
    }
   ],
   "source": [
    "#simple stats of sea floor age - ore\n",
    "print(min(a))\n",
    "print(max(a))\n",
    "print(numpy.mean(a))\n",
    "print(numpy.median(a))"
   ]
  },
  {
   "cell_type": "code",
   "execution_count": 98,
   "metadata": {
    "scrolled": true
   },
   "outputs": [
    {
     "data": {
      "text/plain": [
       "<matplotlib.text.Text at 0x1a2dc7ea50>"
      ]
     },
     "execution_count": 98,
     "metadata": {},
     "output_type": "execute_result"
    },
    {
     "data": {
      "image/png": "[encoded data removed]",
      "text/plain": [
       "<matplotlib.figure.Figure at 0x1a2dac96d0>"
      ]
     },
     "metadata": {
      "needs_background": "light"
     },
     "output_type": "display_data"
    }
   ],
   "source": [
    "#histogram for sea floor age - ore deposits\n",
    "mu = numpy.mean(a) #mean of distribution\n",
    "sigma = numpy.std(a) #standard deviation\n",
    "x = a\n",
    "\n",
    "matplotlib.pyplot.hist(x, bins=[0,10,20,30,40,50,60,70,80,90,100,110,120],color='b')\n",
    "\n",
    "matplotlib.pyplot.xlabel('Sea Floor Age (millions of years)')\n",
    "matplotlib.pyplot.ylabel('Count')\n",
    "matplotlib.pyplot.title('Sea floor age near ore deposits')"
   ]
  },
  {
   "cell_type": "code",
   "execution_count": 99,
   "metadata": {},
   "outputs": [
    {
     "name": "stdout",
     "output_type": "stream",
     "text": [
      "[[  22.44167]\n",
      " [  22.44167]\n",
      " [  22.44167]\n",
      " ...\n",
      " [1675.31355]\n",
      " [1119.19633]\n",
      " [1587.18337]]\n"
     ]
    }
   ],
   "source": [
    "b=andesClean[:,:,9] #distance to trench - ore\n",
    "print(b)"
   ]
  },
  {
   "cell_type": "code",
   "execution_count": 100,
   "metadata": {},
   "outputs": [
    {
     "name": "stdout",
     "output_type": "stream",
     "text": [
      "[-440.50934]\n",
      "[3107.2451]\n",
      "1227.4707816595314\n",
      "863.97583\n"
     ]
    }
   ],
   "source": [
    "#simple stats of distance to trench/ plate edge - ore\n",
    "print(min(b))\n",
    "print(max(b))\n",
    "print(numpy.mean(b))\n",
    "print(numpy.median(b))"
   ]
  },
  {
   "cell_type": "code",
   "execution_count": 102,
   "metadata": {},
   "outputs": [
    {
     "data": {
      "text/plain": [
       "<matplotlib.text.Text at 0x1a2def1f90>"
      ]
     },
     "execution_count": 102,
     "metadata": {},
     "output_type": "execute_result"
    },
    {
     "data": {
      "image/png": "[encoded data removed]",
      "text/plain": [
       "<matplotlib.figure.Figure at 0x1a2dbd3ad0>"
      ]
     },
     "metadata": {
      "needs_background": "light"
     },
     "output_type": "display_data"
    }
   ],
   "source": [
    "mu = numpy.mean(b) #mean of distribution\n",
    "sigma = numpy.std(b) #standard deviation\n",
    "x = b\n",
    "\n",
    "matplotlib.pyplot.hist(x, bins=[0,500,1000,1500,2000,2500,3000,3500],color='b')\n",
    "\n",
    "matplotlib.pyplot.xlabel('Distance from trench/ plate edge (Km)')\n",
    "matplotlib.pyplot.ylabel('Count')\n",
    "matplotlib.pyplot.title('Distance of ore deposits from trench edge')"
   ]
  },
  {
   "cell_type": "code",
   "execution_count": 103,
   "metadata": {},
   "outputs": [
    {
     "name": "stdout",
     "output_type": "stream",
     "text": [
      "[[84.52519]\n",
      " [84.52519]\n",
      " [84.52519]\n",
      " ...\n",
      " [78.32672]\n",
      " [97.09681]\n",
      " [78.13764]]\n"
     ]
    }
   ],
   "source": [
    "c=andesClean[:,:,14] #convergence rate - ore\n",
    "print(c)"
   ]
  },
  {
   "cell_type": "code",
   "execution_count": 104,
   "metadata": {},
   "outputs": [
    {
     "name": "stdout",
     "output_type": "stream",
     "text": [
      "[-103.5788]\n",
      "[127.25771]\n",
      "71.0776122739864\n",
      "80.35798\n"
     ]
    }
   ],
   "source": [
    "\n",
    "print(min(c))\n",
    "print(max(c))\n",
    "print(numpy.mean(c))\n",
    "print(numpy.median(c))"
   ]
  },
  {
   "cell_type": "code",
   "execution_count": 116,
   "metadata": {},
   "outputs": [
    {
     "data": {
      "text/plain": [
       "<matplotlib.text.Text at 0x1a301b4910>"
      ]
     },
     "execution_count": 116,
     "metadata": {},
     "output_type": "execute_result"
    },
    {
     "data": {
      "image/png": "[encoded data removed]",
      "text/plain": [
       "<matplotlib.figure.Figure at 0x1a2f6fd850>"
      ]
     },
     "metadata": {
      "needs_background": "light"
     },
     "output_type": "display_data"
    }
   ],
   "source": [
    "mu = numpy.mean(c) #mean of distribution\n",
    "sigma = numpy.std(c) #standard deviation\n",
    "x = c\n",
    "\n",
    "matplotlib.pyplot.hist(x, bins=[-100,-50,0,50,100,150,200],color='b')\n",
    "\n",
    "matplotlib.pyplot.xlabel('Speed (km/million years)')\n",
    "matplotlib.pyplot.ylabel('Count')\n",
    "matplotlib.pyplot.title('Plate convergence rate - ore deposits')"
   ]
  },
  {
   "cell_type": "code",
   "execution_count": 111,
   "metadata": {},
   "outputs": [
    {
     "name": "stdout",
     "output_type": "stream",
     "text": [
      "(3971, 1)\n"
     ]
    }
   ],
   "source": [
    "d=andesClean[:,:,17] #subduction angle - ore\n",
    "print(d.shape)"
   ]
  },
  {
   "cell_type": "code",
   "execution_count": 112,
   "metadata": {},
   "outputs": [
    {
     "name": "stdout",
     "output_type": "stream",
     "text": [
      "[0.08088]\n",
      "[89.49372]\n",
      "25.117618038277513\n",
      "23.15426\n"
     ]
    }
   ],
   "source": [
    "\n",
    "print(min(d))\n",
    "print(max(d))\n",
    "print(numpy.mean(d))\n",
    "print(numpy.median(d))"
   ]
  },
  {
   "cell_type": "code",
   "execution_count": 118,
   "metadata": {},
   "outputs": [
    {
     "data": {
      "text/plain": [
       "<matplotlib.text.Text at 0x1a30581e10>"
      ]
     },
     "execution_count": 118,
     "metadata": {},
     "output_type": "execute_result"
    },
    {
     "data": {
      "image/png": "[encoded data removed]",
      "text/plain": [
       "<matplotlib.figure.Figure at 0x1a304cb650>"
      ]
     },
     "metadata": {
      "needs_background": "light"
     },
     "output_type": "display_data"
    }
   ],
   "source": [
    "mu = numpy.mean(d) #mean of distribution\n",
    "sigma = numpy.std(d) #standard deviation\n",
    "x = d\n",
    "\n",
    "matplotlib.pyplot.hist(x, bins=[0,10,20,30,40,50,60,70,80,90],color='b')\n",
    "\n",
    "matplotlib.pyplot.xlabel('Angle of subducting plate relative to trench (degrees)')\n",
    "matplotlib.pyplot.ylabel('Count')\n",
    "matplotlib.pyplot.title('Subduction obliquity - ore deposits')"
   ]
  },
  {
   "cell_type": "code",
   "execution_count": 119,
   "metadata": {},
   "outputs": [
    {
     "name": "stdout",
     "output_type": "stream",
     "text": [
      "[[16.95363426]\n",
      " [44.50321579]\n",
      " [42.15781403]\n",
      " ...\n",
      " [76.85774231]\n",
      " [75.82770538]\n",
      " [47.25963211]]\n"
     ]
    }
   ],
   "source": [
    "aa=andesRandClean[:,:,6] #sea floor age - non ore\n",
    "print(aa)"
   ]
  },
  {
   "cell_type": "code",
   "execution_count": 120,
   "metadata": {},
   "outputs": [
    {
     "name": "stdout",
     "output_type": "stream",
     "text": [
      "[0.38263077]\n",
      "[189.7928009]\n",
      "47.33523170792812\n",
      "44.2385139465332\n"
     ]
    }
   ],
   "source": [
    "#simple stats of sea floor age - ore\n",
    "print(min(aa))\n",
    "print(max(aa))\n",
    "print(numpy.mean(aa))\n",
    "print(numpy.median(aa))"
   ]
  },
  {
   "cell_type": "code",
   "execution_count": 132,
   "metadata": {},
   "outputs": [
    {
     "data": {
      "text/plain": [
       "<matplotlib.text.Text at 0x1a30e00c90>"
      ]
     },
     "execution_count": 132,
     "metadata": {},
     "output_type": "execute_result"
    },
    {
     "data": {
      "image/png": "[encoded data removed]",
      "text/plain": [
       "<matplotlib.figure.Figure at 0x1a30d1ca50>"
      ]
     },
     "metadata": {
      "needs_background": "light"
     },
     "output_type": "display_data"
    }
   ],
   "source": [
    "mu = numpy.mean(aa) #mean of distribution\n",
    "sigma = numpy.std(aa) #standard deviation\n",
    "x = aa\n",
    "\n",
    "matplotlib.pyplot.hist(x, bins=[0,20,40,60,80,100,120,140,160,180],color='r')\n",
    "\n",
    "matplotlib.pyplot.xlabel('Sea Floor Age (millions of years)')\n",
    "matplotlib.pyplot.ylabel('Count')\n",
    "matplotlib.pyplot.title('Sea floor age near ore deposits')"
   ]
  },
  {
   "cell_type": "code",
   "execution_count": 133,
   "metadata": {},
   "outputs": [
    {
     "name": "stdout",
     "output_type": "stream",
     "text": [
      "[[  22.44947]\n",
      " [2529.91176]\n",
      " [2862.77397]\n",
      " ...\n",
      " [ 289.05239]\n",
      " [ 545.7453 ]\n",
      " [ -23.47671]]\n"
     ]
    }
   ],
   "source": [
    "bb=andesRandClean[:,:,9] #distance to trench - non ore\n",
    "print(bb)"
   ]
  },
  {
   "cell_type": "code",
   "execution_count": 134,
   "metadata": {},
   "outputs": [
    {
     "name": "stdout",
     "output_type": "stream",
     "text": [
      "[-43.19713]\n",
      "[3771.99375]\n",
      "747.4900978034809\n",
      "509.66918\n"
     ]
    }
   ],
   "source": [
    "#simple stats of distance to trench - non ore\n",
    "print(min(bb))\n",
    "print(max(bb))\n",
    "print(numpy.mean(bb))\n",
    "print(numpy.median(bb))"
   ]
  },
  {
   "cell_type": "code",
   "execution_count": 135,
   "metadata": {},
   "outputs": [
    {
     "data": {
      "text/plain": [
       "<matplotlib.text.Text at 0x1a35803c90>"
      ]
     },
     "execution_count": 135,
     "metadata": {},
     "output_type": "execute_result"
    },
    {
     "data": {
      "image/png": "[encoded data removed]",
      "text/plain": [
       "<matplotlib.figure.Figure at 0x1a30c6b350>"
      ]
     },
     "metadata": {
      "needs_background": "light"
     },
     "output_type": "display_data"
    }
   ],
   "source": [
    "mu = numpy.mean(bb) #mean of distribution\n",
    "sigma = numpy.std(bb) #standard deviation\n",
    "x = bb\n",
    "\n",
    "matplotlib.pyplot.hist(x, bins=[0,500,1000,1500,2000,2500,3000,3500],color='r')\n",
    "\n",
    "matplotlib.pyplot.xlabel('Distance from trench/ plate edge (Km)')\n",
    "matplotlib.pyplot.ylabel('Count')\n",
    "matplotlib.pyplot.title('Distance of ore deposits from trench edge')"
   ]
  },
  {
   "cell_type": "code",
   "execution_count": 143,
   "metadata": {},
   "outputs": [
    {
     "name": "stdout",
     "output_type": "stream",
     "text": [
      "(4539, 1)\n"
     ]
    }
   ],
   "source": [
    "cc=andesRandClean[:,:,14] #convergence rate - non ore\n",
    "print(cc.shape)"
   ]
  },
  {
   "cell_type": "code",
   "execution_count": 137,
   "metadata": {},
   "outputs": [
    {
     "name": "stdout",
     "output_type": "stream",
     "text": [
      "[-104.2529]\n",
      "[210.54433]\n",
      "38.803976159947126\n",
      "36.02045\n"
     ]
    }
   ],
   "source": [
    "#simple stats convergence rate - non ore\n",
    "print(min(cc))\n",
    "print(max(cc))\n",
    "print(numpy.mean(cc))\n",
    "print(numpy.median(cc))"
   ]
  },
  {
   "cell_type": "code",
   "execution_count": 138,
   "metadata": {},
   "outputs": [
    {
     "data": {
      "text/plain": [
       "<matplotlib.text.Text at 0x1a3597a610>"
      ]
     },
     "execution_count": 138,
     "metadata": {},
     "output_type": "execute_result"
    },
    {
     "data": {
      "image/png": "[encoded data removed]",
      "text/plain": [
       "<matplotlib.figure.Figure at 0x1a30ac6510>"
      ]
     },
     "metadata": {
      "needs_background": "light"
     },
     "output_type": "display_data"
    }
   ],
   "source": [
    "mu = numpy.mean(cc) #mean of distribution\n",
    "sigma = numpy.std(cc) #standard deviation\n",
    "x = cc\n",
    "\n",
    "matplotlib.pyplot.hist(x, bins=[-100,-50,0,50,100,150,200],color='r')\n",
    "\n",
    "matplotlib.pyplot.xlabel('Speed (km/million years)')\n",
    "matplotlib.pyplot.ylabel('Count')\n",
    "matplotlib.pyplot.title('Plate convergence rate - ore deposits')"
   ]
  },
  {
   "cell_type": "code",
   "execution_count": 142,
   "metadata": {},
   "outputs": [
    {
     "name": "stdout",
     "output_type": "stream",
     "text": [
      "(4539, 1)\n"
     ]
    }
   ],
   "source": [
    "dd=andesRandClean[:,:,17] #subduction angle - non ore\n",
    "print(dd.shape)"
   ]
  },
  {
   "cell_type": "code",
   "execution_count": 140,
   "metadata": {},
   "outputs": [
    {
     "name": "stdout",
     "output_type": "stream",
     "text": [
      "[0.03253]\n",
      "[89.99972]\n",
      "38.77609487772638\n",
      "34.9148\n"
     ]
    }
   ],
   "source": [
    "#simple stats of subduction angle - non ore\n",
    "print(min(dd))\n",
    "print(max(dd))\n",
    "print(numpy.mean(dd))\n",
    "print(numpy.median(dd))"
   ]
  },
  {
   "cell_type": "code",
   "execution_count": 141,
   "metadata": {
    "scrolled": true
   },
   "outputs": [
    {
     "data": {
      "text/plain": [
       "<matplotlib.text.Text at 0x1a35aff1d0>"
      ]
     },
     "execution_count": 141,
     "metadata": {},
     "output_type": "execute_result"
    },
    {
     "data": {
      "image/png": "[encoded data removed]",
      "text/plain": [
       "<matplotlib.figure.Figure at 0x1a3578d410>"
      ]
     },
     "metadata": {
      "needs_background": "light"
     },
     "output_type": "display_data"
    }
   ],
   "source": [
    "mu = numpy.mean(dd) #mean of distribution\n",
    "sigma = numpy.std(dd) #standard deviation\n",
    "x = dd\n",
    "\n",
    "matplotlib.pyplot.hist(x, bins=[0,10,20,30,40,50,60,70,80,90],color='r')\n",
    "\n",
    "matplotlib.pyplot.xlabel('Angle of subducting plate relative to trench (degrees)')\n",
    "matplotlib.pyplot.ylabel('Count')\n",
    "matplotlib.pyplot.title('Subduction obliquity - ore deposits')"
   ]
  },
  {
   "cell_type": "code",
   "execution_count": null,
   "metadata": {},
   "outputs": [],
   "source": []
  }
 ],
 "metadata": {
  "kernelspec": {
   "display_name": "Python 2",
   "language": "python",
   "name": "python2"
  },
  "language_info": {
   "codemirror_mode": {
    "name": "ipython",
    "version": 2
   },
   "file_extension": ".py",
   "mimetype": "text/x-python",
   "name": "python",
   "nbconvert_exporter": "python",
   "pygments_lexer": "ipython2",
   "version": "2.7.16"
  }
 },
 "nbformat": 4,
 "nbformat_minor": 1
}
