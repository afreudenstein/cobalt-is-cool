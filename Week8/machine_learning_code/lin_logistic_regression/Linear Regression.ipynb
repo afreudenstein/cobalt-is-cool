{
 "cells": [
  {
   "cell_type": "code",
   "execution_count": 1,
   "metadata": {},
   "outputs": [],
   "source": [
    "import numpy as np\n",
    "import matplotlib.pyplot as plt"
   ]
  },
  {
   "cell_type": "markdown",
   "metadata": {},
   "source": [
    "*Load necessary libraries*"
   ]
  },
  {
   "cell_type": "code",
   "execution_count": 19,
   "metadata": {
    "scrolled": false
   },
   "outputs": [
    {
     "name": "stdout",
     "output_type": "stream",
     "text": [
      "[[0.1       ]\n",
      " [0.10909091]\n",
      " [0.11818182]\n",
      " [0.12727273]\n",
      " [0.13636364]\n",
      " [0.14545455]\n",
      " [0.15454545]\n",
      " [0.16363636]\n",
      " [0.17272727]\n",
      " [0.18181818]\n",
      " [0.19090909]\n",
      " [0.2       ]\n",
      " [0.20909091]\n",
      " [0.21818182]\n",
      " [0.22727273]\n",
      " [0.23636364]\n",
      " [0.24545455]\n",
      " [0.25454545]\n",
      " [0.26363636]\n",
      " [0.27272727]\n",
      " [0.28181818]\n",
      " [0.29090909]\n",
      " [0.3       ]\n",
      " [0.30909091]\n",
      " [0.31818182]\n",
      " [0.32727273]\n",
      " [0.33636364]\n",
      " [0.34545455]\n",
      " [0.35454545]\n",
      " [0.36363636]\n",
      " [0.37272727]\n",
      " [0.38181818]\n",
      " [0.39090909]\n",
      " [0.4       ]\n",
      " [0.40909091]\n",
      " [0.41818182]\n",
      " [0.42727273]\n",
      " [0.43636364]\n",
      " [0.44545455]\n",
      " [0.45454545]\n",
      " [0.46363636]\n",
      " [0.47272727]\n",
      " [0.48181818]\n",
      " [0.49090909]\n",
      " [0.5       ]\n",
      " [0.50909091]\n",
      " [0.51818182]\n",
      " [0.52727273]\n",
      " [0.53636364]\n",
      " [0.54545455]\n",
      " [0.55454545]\n",
      " [0.56363636]\n",
      " [0.57272727]\n",
      " [0.58181818]\n",
      " [0.59090909]\n",
      " [0.6       ]\n",
      " [0.60909091]\n",
      " [0.61818182]\n",
      " [0.62727273]\n",
      " [0.63636364]\n",
      " [0.64545455]\n",
      " [0.65454545]\n",
      " [0.66363636]\n",
      " [0.67272727]\n",
      " [0.68181818]\n",
      " [0.69090909]\n",
      " [0.7       ]\n",
      " [0.70909091]\n",
      " [0.71818182]\n",
      " [0.72727273]\n",
      " [0.73636364]\n",
      " [0.74545455]\n",
      " [0.75454545]\n",
      " [0.76363636]\n",
      " [0.77272727]\n",
      " [0.78181818]\n",
      " [0.79090909]\n",
      " [0.8       ]\n",
      " [0.80909091]\n",
      " [0.81818182]\n",
      " [0.82727273]\n",
      " [0.83636364]\n",
      " [0.84545455]\n",
      " [0.85454545]\n",
      " [0.86363636]\n",
      " [0.87272727]\n",
      " [0.88181818]\n",
      " [0.89090909]\n",
      " [0.9       ]\n",
      " [0.90909091]\n",
      " [0.91818182]\n",
      " [0.92727273]\n",
      " [0.93636364]\n",
      " [0.94545455]\n",
      " [0.95454545]\n",
      " [0.96363636]\n",
      " [0.97272727]\n",
      " [0.98181818]\n",
      " [0.99090909]\n",
      " [1.        ]]\n"
     ]
    }
   ],
   "source": [
    "data_x = np.linspace(1.0, 10.0, 100)[:, np.newaxis]\n",
    "data_y = np.sin(data_x) + 0.1 * np.power(data_x, 2) + 0.5 * np.random.randn(100, 1)\n",
    "data_x /= np.max(data_x)\n",
    "print data_x\n"
   ]
  },
  {
   "cell_type": "markdown",
   "metadata": {},
   "source": [
    "*Generate our data*"
   ]
  },
  {
   "cell_type": "code",
   "execution_count": 23,
   "metadata": {
    "scrolled": true
   },
   "outputs": [
    {
     "name": "stdout",
     "output_type": "stream",
     "text": [
      "[[1. 1. 1. 1. 1. 1. 1. 1.]\n",
      " [1. 1. 1. 1. 1. 1. 1. 1.]\n",
      " [1. 1. 1. 1. 1. 1. 1. 1.]\n",
      " [1. 1. 1. 1. 1. 1. 1. 1.]\n",
      " [1. 1. 1. 1. 1. 1. 1. 1.]\n",
      " [1. 1. 1. 1. 1. 1. 1. 1.]\n",
      " [1. 1. 1. 1. 1. 1. 1. 1.]\n",
      " [1. 1. 1. 1. 1. 1. 1. 1.]\n",
      " [1. 1. 1. 1. 1. 1. 1. 1.]\n",
      " [1. 1. 1. 1. 1. 1. 1. 1.]\n",
      " [1. 1. 1. 1. 1. 1. 1. 1.]\n",
      " [1. 1. 1. 1. 1. 1. 1. 1.]\n",
      " [1. 1. 1. 1. 1. 1. 1. 1.]\n",
      " [1. 1. 1. 1. 1. 1. 1. 1.]\n",
      " [1. 1. 1. 1. 1. 1. 1. 1.]\n",
      " [1. 1. 1. 1. 1. 1. 1. 1.]\n",
      " [1. 1. 1. 1. 1. 1. 1. 1.]\n",
      " [1. 1. 1. 1. 1. 1. 1. 1.]\n",
      " [1. 1. 1. 1. 1. 1. 1. 1.]\n",
      " [1. 1. 1. 1. 1. 1. 1. 1.]\n",
      " [1. 1. 1. 1. 1. 1. 1. 1.]\n",
      " [1. 1. 1. 1. 1. 1. 1. 1.]\n",
      " [1. 1. 1. 1. 1. 1. 1. 1.]\n",
      " [1. 1. 1. 1. 1. 1. 1. 1.]\n",
      " [1. 1. 1. 1. 1. 1. 1. 1.]\n",
      " [1. 1. 1. 1. 1. 1. 1. 1.]\n",
      " [1. 1. 1. 1. 1. 1. 1. 1.]\n",
      " [1. 1. 1. 1. 1. 1. 1. 1.]\n",
      " [1. 1. 1. 1. 1. 1. 1. 1.]\n",
      " [1. 1. 1. 1. 1. 1. 1. 1.]\n",
      " [1. 1. 1. 1. 1. 1. 1. 1.]\n",
      " [1. 1. 1. 1. 1. 1. 1. 1.]\n",
      " [1. 1. 1. 1. 1. 1. 1. 1.]\n",
      " [1. 1. 1. 1. 1. 1. 1. 1.]\n",
      " [1. 1. 1. 1. 1. 1. 1. 1.]\n",
      " [1. 1. 1. 1. 1. 1. 1. 1.]\n",
      " [1. 1. 1. 1. 1. 1. 1. 1.]\n",
      " [1. 1. 1. 1. 1. 1. 1. 1.]\n",
      " [1. 1. 1. 1. 1. 1. 1. 1.]\n",
      " [1. 1. 1. 1. 1. 1. 1. 1.]\n",
      " [1. 1. 1. 1. 1. 1. 1. 1.]\n",
      " [1. 1. 1. 1. 1. 1. 1. 1.]\n",
      " [1. 1. 1. 1. 1. 1. 1. 1.]\n",
      " [1. 1. 1. 1. 1. 1. 1. 1.]\n",
      " [1. 1. 1. 1. 1. 1. 1. 1.]\n",
      " [1. 1. 1. 1. 1. 1. 1. 1.]\n",
      " [1. 1. 1. 1. 1. 1. 1. 1.]\n",
      " [1. 1. 1. 1. 1. 1. 1. 1.]\n",
      " [1. 1. 1. 1. 1. 1. 1. 1.]\n",
      " [1. 1. 1. 1. 1. 1. 1. 1.]\n",
      " [1. 1. 1. 1. 1. 1. 1. 1.]\n",
      " [1. 1. 1. 1. 1. 1. 1. 1.]\n",
      " [1. 1. 1. 1. 1. 1. 1. 1.]\n",
      " [1. 1. 1. 1. 1. 1. 1. 1.]\n",
      " [1. 1. 1. 1. 1. 1. 1. 1.]\n",
      " [1. 1. 1. 1. 1. 1. 1. 1.]\n",
      " [1. 1. 1. 1. 1. 1. 1. 1.]\n",
      " [1. 1. 1. 1. 1. 1. 1. 1.]\n",
      " [1. 1. 1. 1. 1. 1. 1. 1.]\n",
      " [1. 1. 1. 1. 1. 1. 1. 1.]\n",
      " [1. 1. 1. 1. 1. 1. 1. 1.]\n",
      " [1. 1. 1. 1. 1. 1. 1. 1.]\n",
      " [1. 1. 1. 1. 1. 1. 1. 1.]\n",
      " [1. 1. 1. 1. 1. 1. 1. 1.]\n",
      " [1. 1. 1. 1. 1. 1. 1. 1.]\n",
      " [1. 1. 1. 1. 1. 1. 1. 1.]\n",
      " [1. 1. 1. 1. 1. 1. 1. 1.]\n",
      " [1. 1. 1. 1. 1. 1. 1. 1.]\n",
      " [1. 1. 1. 1. 1. 1. 1. 1.]\n",
      " [1. 1. 1. 1. 1. 1. 1. 1.]\n",
      " [1. 1. 1. 1. 1. 1. 1. 1.]\n",
      " [1. 1. 1. 1. 1. 1. 1. 1.]\n",
      " [1. 1. 1. 1. 1. 1. 1. 1.]\n",
      " [1. 1. 1. 1. 1. 1. 1. 1.]\n",
      " [1. 1. 1. 1. 1. 1. 1. 1.]\n",
      " [1. 1. 1. 1. 1. 1. 1. 1.]\n",
      " [1. 1. 1. 1. 1. 1. 1. 1.]\n",
      " [1. 1. 1. 1. 1. 1. 1. 1.]\n",
      " [1. 1. 1. 1. 1. 1. 1. 1.]\n",
      " [1. 1. 1. 1. 1. 1. 1. 1.]\n",
      " [1. 1. 1. 1. 1. 1. 1. 1.]\n",
      " [1. 1. 1. 1. 1. 1. 1. 1.]\n",
      " [1. 1. 1. 1. 1. 1. 1. 1.]\n",
      " [1. 1. 1. 1. 1. 1. 1. 1.]\n",
      " [1. 1. 1. 1. 1. 1. 1. 1.]\n",
      " [1. 1. 1. 1. 1. 1. 1. 1.]\n",
      " [1. 1. 1. 1. 1. 1. 1. 1.]\n",
      " [1. 1. 1. 1. 1. 1. 1. 1.]\n",
      " [1. 1. 1. 1. 1. 1. 1. 1.]\n",
      " [1. 1. 1. 1. 1. 1. 1. 1.]\n",
      " [1. 1. 1. 1. 1. 1. 1. 1.]\n",
      " [1. 1. 1. 1. 1. 1. 1. 1.]\n",
      " [1. 1. 1. 1. 1. 1. 1. 1.]\n",
      " [1. 1. 1. 1. 1. 1. 1. 1.]\n",
      " [1. 1. 1. 1. 1. 1. 1. 1.]\n",
      " [1. 1. 1. 1. 1. 1. 1. 1.]\n",
      " [1. 1. 1. 1. 1. 1. 1. 1.]\n",
      " [1. 1. 1. 1. 1. 1. 1. 1.]\n",
      " [1. 1. 1. 1. 1. 1. 1. 1.]\n",
      " [1. 1. 1. 1. 1. 1. 1. 1.]]\n"
     ]
    }
   ],
   "source": [
    "print np.ones_like(data_x)\n",
    "data_x = np.hstack((np.ones_like(data_x), data_x))\n",
    "\n",
    "\n",
    "\n"
   ]
  },
  {
   "cell_type": "markdown",
   "metadata": {},
   "source": [
    "*Add intercept data and normalize*"
   ]
  },
  {
   "cell_type": "code",
   "execution_count": 11,
   "metadata": {},
   "outputs": [],
   "source": [
    "order = np.random.permutation(len(data_x))\n",
    "portion = 20\n",
    "test_x = data_x[order[:portion]]\n",
    "test_y = data_y[order[:portion]]\n",
    "train_x = data_x[order[portion:]]\n",
    "train_y = data_y[order[portion:]]"
   ]
  },
  {
   "cell_type": "markdown",
   "metadata": {},
   "source": [
    "*Shuffle data and produce train and test sets*"
   ]
  },
  {
   "cell_type": "code",
   "execution_count": 12,
   "metadata": {},
   "outputs": [],
   "source": [
    "def get_gradient(w, x, y):\n",
    "    y_estimate = x.dot(w).flatten()\n",
    "    error = (y.flatten() - y_estimate)\n",
    "    mse = (1.0/len(x))*np.sum(np.power(error, 2))\n",
    "    gradient = -(1.0/len(x)) * error.dot(x)\n",
    "    return gradient, mse"
   ]
  },
  {
   "cell_type": "markdown",
   "metadata": {},
   "source": [
    "*Create gradient function*"
   ]
  },
  {
   "cell_type": "code",
   "execution_count": 13,
   "metadata": {
    "scrolled": false
   },
   "outputs": [
    {
     "name": "stdout",
     "output_type": "stream",
     "text": [
      "Iteration: 100 - Error: 1.7193\n",
      "Iteration: 200 - Error: 1.6862\n",
      "Iteration: 300 - Error: 1.6860\n",
      "Iteration: 400 - Error: 1.6860\n",
      "Converged.\n",
      "w = [-2.08244916 10.76230464]\n",
      "Test Cost = 1.9349359626813685\n"
     ]
    }
   ],
   "source": [
    "w = np.random.randn(2)\n",
    "alpha = 0.5\n",
    "tolerance = 1e-5\n",
    "\n",
    "# Perform Gradient Descent\n",
    "iterations = 1\n",
    "while True:\n",
    "    gradient, error = get_gradient(w, train_x, train_y)\n",
    "    new_w = w - alpha * gradient\n",
    "    \n",
    "    # Stopping Condition\n",
    "    if np.sum(abs(new_w - w)) < tolerance:\n",
    "        print \"Converged.\"\n",
    "        break\n",
    "    \n",
    "    # Print error every 50 iterations\n",
    "    if iterations % 100 == 0:\n",
    "        print \"Iteration: %d - Error: %.4f\" %(iterations, error)\n",
    "    \n",
    "    iterations += 1\n",
    "    w = new_w\n",
    "\n",
    "print \"w =\",w\n",
    "print \"Test Cost =\", get_gradient(w, test_x, test_y)[1]"
   ]
  },
  {
   "cell_type": "markdown",
   "metadata": {},
   "source": [
    "*Perform gradient descent to learn model*"
   ]
  },
  {
   "cell_type": "code",
   "execution_count": 14,
   "metadata": {},
   "outputs": [
    {
     "data": {
      "image/png": "[encoded data removed]",
      "text/plain": [
       "<matplotlib.figure.Figure at 0x7f6c67d6c8d0>"
      ]
     },
     "metadata": {},
     "output_type": "display_data"
    }
   ],
   "source": [
    "plt.plot(data_x[:,1], data_x.dot(w), c='g', label='Model')\n",
    "plt.scatter(train_x[:,1], train_y, c='b', label='Train Set')\n",
    "plt.scatter(test_x[:,1], test_y, c='r', label='Test Set')\n",
    "plt.grid()\n",
    "plt.legend(loc='best')\n",
    "plt.xlabel('X')\n",
    "plt.ylabel('Y')\n",
    "plt.show()"
   ]
  },
  {
   "cell_type": "markdown",
   "metadata": {},
   "source": [
    "*Plot the model obtained*"
   ]
  },
  {
   "cell_type": "code",
   "execution_count": 8,
   "metadata": {},
   "outputs": [
    {
     "name": "stderr",
     "output_type": "stream",
     "text": [
      "/usr/local/lib/python2.7/dist-packages/matplotlib/contour.py:967: UserWarning: The following kwargs were not used by contour: 'label'\n",
      "  s)\n"
     ]
    },
    {
     "data": {
      "image/png": "[encoded data removed]",
      "text/plain": [
       "<matplotlib.figure.Figure at 0x7f6ca2ffa5d0>"
      ]
     },
     "metadata": {},
     "output_type": "display_data"
    }
   ],
   "source": [
    "w1 = np.linspace(-w[1]*3, w[1]*3, 300)\n",
    "w0 = np.linspace(-w[0]*3, w[0]*3, 300)\n",
    "J_vals = np.zeros(shape=(w1.size, w0.size))\n",
    "\n",
    "for t1, element in enumerate(w1):\n",
    "    for t2, element2 in enumerate(w0):\n",
    "        wT = [0, 0]\n",
    "        wT[1] = element\n",
    "        wT[0] = element2\n",
    "        J_vals[t1, t2] = get_gradient(wT, train_x, train_y)[1]\n",
    "\n",
    "plt.scatter(w[0], w[1], marker='*', color='r', s=40, label='Solution Found')\n",
    "CS = plt.contour(w0, w1, J_vals, np.logspace(-10,10,50), label='Cost Function')\n",
    "plt.clabel(CS, inline=1, fontsize=10)\n",
    "plt.title(\"Contour Plot of Cost Function\")\n",
    "plt.xlabel(\"w0\")\n",
    "plt.ylabel(\"w1\")\n",
    "plt.legend(loc='best')\n",
    "plt.show()"
   ]
  },
  {
   "cell_type": "markdown",
   "metadata": {},
   "source": [
    "*Generate contour plot of the cost function*"
   ]
  },
  {
   "cell_type": "code",
   "execution_count": null,
   "metadata": {},
   "outputs": [],
   "source": []
  }
 ],
 "metadata": {
  "kernelspec": {
   "display_name": "Python 2",
   "language": "python",
   "name": "python2"
  },
  "language_info": {
   "codemirror_mode": {
    "name": "ipython",
    "version": 2
   },
   "file_extension": ".py",
   "mimetype": "text/x-python",
   "name": "python",
   "nbconvert_exporter": "python",
   "pygments_lexer": "ipython2",
   "version": "2.7.12"
  }
 },
 "nbformat": 4,
 "nbformat_minor": 1
}
